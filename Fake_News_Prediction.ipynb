{
  "cells": [
    {
      "cell_type": "markdown",
      "metadata": {
        "id": "k399dHafvL5N"
      },
      "source": [
        "Importing the Dependencies"
      ]
    },
    {
      "cell_type": "code",
      "execution_count": 16,
      "metadata": {
        "id": "-fetC5yqkPVe"
      },
      "outputs": [],
      "source": [
        "import numpy as np\n",
        "import pandas as pd\n",
        "import re\n",
        "from nltk.corpus import stopwords\n",
        "from nltk.stem.porter import PorterStemmer\n",
        "from sklearn.feature_extraction.text import TfidfVectorizer\n",
        "from sklearn.model_selection import train_test_split\n",
        "from sklearn.linear_model import LogisticRegression\n",
        "from sklearn.metrics import accuracy_score\n",
        "import joblib"
      ]
    },
    {
      "cell_type": "code",
      "execution_count": 17,
      "metadata": {
        "colab": {
          "base_uri": "https://localhost:8080/"
        },
        "id": "1AC1YpmGwIDw",
        "outputId": "d726f6f2-2aae-4146-ae10-4776179d07d8"
      },
      "outputs": [
        {
          "name": "stderr",
          "output_type": "stream",
          "text": [
            "[nltk_data] Downloading package stopwords to\n",
            "[nltk_data]     C:\\Users\\Asanka\\AppData\\Roaming\\nltk_data...\n",
            "[nltk_data]   Package stopwords is already up-to-date!\n"
          ]
        },
        {
          "data": {
            "text/plain": [
              "True"
            ]
          },
          "execution_count": 17,
          "metadata": {},
          "output_type": "execute_result"
        }
      ],
      "source": [
        "import nltk\n",
        "nltk.download('stopwords')"
      ]
    },
    {
      "cell_type": "code",
      "execution_count": 18,
      "metadata": {
        "colab": {
          "base_uri": "https://localhost:8080/"
        },
        "id": "dxIOt3DowpUR",
        "outputId": "b3cf98ca-97a7-4635-aaa1-d6454a8759e0"
      },
      "outputs": [
        {
          "name": "stdout",
          "output_type": "stream",
          "text": [
            "['i', 'me', 'my', 'myself', 'we', 'our', 'ours', 'ourselves', 'you', \"you're\", \"you've\", \"you'll\", \"you'd\", 'your', 'yours', 'yourself', 'yourselves', 'he', 'him', 'his', 'himself', 'she', \"she's\", 'her', 'hers', 'herself', 'it', \"it's\", 'its', 'itself', 'they', 'them', 'their', 'theirs', 'themselves', 'what', 'which', 'who', 'whom', 'this', 'that', \"that'll\", 'these', 'those', 'am', 'is', 'are', 'was', 'were', 'be', 'been', 'being', 'have', 'has', 'had', 'having', 'do', 'does', 'did', 'doing', 'a', 'an', 'the', 'and', 'but', 'if', 'or', 'because', 'as', 'until', 'while', 'of', 'at', 'by', 'for', 'with', 'about', 'against', 'between', 'into', 'through', 'during', 'before', 'after', 'above', 'below', 'to', 'from', 'up', 'down', 'in', 'out', 'on', 'off', 'over', 'under', 'again', 'further', 'then', 'once', 'here', 'there', 'when', 'where', 'why', 'how', 'all', 'any', 'both', 'each', 'few', 'more', 'most', 'other', 'some', 'such', 'no', 'nor', 'not', 'only', 'own', 'same', 'so', 'than', 'too', 'very', 's', 't', 'can', 'will', 'just', 'don', \"don't\", 'should', \"should've\", 'now', 'd', 'll', 'm', 'o', 're', 've', 'y', 'ain', 'aren', \"aren't\", 'couldn', \"couldn't\", 'didn', \"didn't\", 'doesn', \"doesn't\", 'hadn', \"hadn't\", 'hasn', \"hasn't\", 'haven', \"haven't\", 'isn', \"isn't\", 'ma', 'mightn', \"mightn't\", 'mustn', \"mustn't\", 'needn', \"needn't\", 'shan', \"shan't\", 'shouldn', \"shouldn't\", 'wasn', \"wasn't\", 'weren', \"weren't\", 'won', \"won't\", 'wouldn', \"wouldn't\"]\n"
          ]
        }
      ],
      "source": [
        "# printing the stopwords in English\n",
        "print(stopwords.words('english'))"
      ]
    },
    {
      "cell_type": "markdown",
      "metadata": {
        "id": "NjeGd1CLw_6R"
      },
      "source": [
        "Data Pre-processing"
      ]
    },
    {
      "cell_type": "code",
      "execution_count": 19,
      "metadata": {
        "id": "nCGcpu_1wzLw"
      },
      "outputs": [],
      "source": [
        "# loading the dataset to a pandas DataFrame\n",
        "news_dataset = pd.read_csv('dataset/train.csv')"
      ]
    },
    {
      "cell_type": "code",
      "execution_count": 20,
      "metadata": {
        "colab": {
          "base_uri": "https://localhost:8080/"
        },
        "id": "aRgmbYSbxV4-",
        "outputId": "82bafe4f-211d-47b8-f4ed-a61b77370bc0"
      },
      "outputs": [
        {
          "data": {
            "text/plain": [
              "(20800, 5)"
            ]
          },
          "execution_count": 20,
          "metadata": {},
          "output_type": "execute_result"
        }
      ],
      "source": [
        "news_dataset.shape"
      ]
    },
    {
      "cell_type": "code",
      "execution_count": 21,
      "metadata": {
        "colab": {
          "base_uri": "https://localhost:8080/",
          "height": 198
        },
        "id": "jjJ1eB6RxZaS",
        "outputId": "9bb0c756-30e5-4919-a8e0-a688127261eb"
      },
      "outputs": [
        {
          "data": {
            "text/html": [
              "<div>\n",
              "<style scoped>\n",
              "    .dataframe tbody tr th:only-of-type {\n",
              "        vertical-align: middle;\n",
              "    }\n",
              "\n",
              "    .dataframe tbody tr th {\n",
              "        vertical-align: top;\n",
              "    }\n",
              "\n",
              "    .dataframe thead th {\n",
              "        text-align: right;\n",
              "    }\n",
              "</style>\n",
              "<table border=\"1\" class=\"dataframe\">\n",
              "  <thead>\n",
              "    <tr style=\"text-align: right;\">\n",
              "      <th></th>\n",
              "      <th>id</th>\n",
              "      <th>title</th>\n",
              "      <th>author</th>\n",
              "      <th>text</th>\n",
              "      <th>label</th>\n",
              "    </tr>\n",
              "  </thead>\n",
              "  <tbody>\n",
              "    <tr>\n",
              "      <th>0</th>\n",
              "      <td>0</td>\n",
              "      <td>House Dem Aide: We Didn’t Even See Comey’s Let...</td>\n",
              "      <td>Darrell Lucus</td>\n",
              "      <td>House Dem Aide: We Didn’t Even See Comey’s Let...</td>\n",
              "      <td>1</td>\n",
              "    </tr>\n",
              "    <tr>\n",
              "      <th>1</th>\n",
              "      <td>1</td>\n",
              "      <td>FLYNN: Hillary Clinton, Big Woman on Campus - ...</td>\n",
              "      <td>Daniel J. Flynn</td>\n",
              "      <td>Ever get the feeling your life circles the rou...</td>\n",
              "      <td>0</td>\n",
              "    </tr>\n",
              "    <tr>\n",
              "      <th>2</th>\n",
              "      <td>2</td>\n",
              "      <td>Why the Truth Might Get You Fired</td>\n",
              "      <td>Consortiumnews.com</td>\n",
              "      <td>Why the Truth Might Get You Fired October 29, ...</td>\n",
              "      <td>1</td>\n",
              "    </tr>\n",
              "    <tr>\n",
              "      <th>3</th>\n",
              "      <td>3</td>\n",
              "      <td>15 Civilians Killed In Single US Airstrike Hav...</td>\n",
              "      <td>Jessica Purkiss</td>\n",
              "      <td>Videos 15 Civilians Killed In Single US Airstr...</td>\n",
              "      <td>1</td>\n",
              "    </tr>\n",
              "    <tr>\n",
              "      <th>4</th>\n",
              "      <td>4</td>\n",
              "      <td>Iranian woman jailed for fictional unpublished...</td>\n",
              "      <td>Howard Portnoy</td>\n",
              "      <td>Print \\nAn Iranian woman has been sentenced to...</td>\n",
              "      <td>1</td>\n",
              "    </tr>\n",
              "  </tbody>\n",
              "</table>\n",
              "</div>"
            ],
            "text/plain": [
              "   id                                              title              author  \\\n",
              "0   0  House Dem Aide: We Didn’t Even See Comey’s Let...       Darrell Lucus   \n",
              "1   1  FLYNN: Hillary Clinton, Big Woman on Campus - ...     Daniel J. Flynn   \n",
              "2   2                  Why the Truth Might Get You Fired  Consortiumnews.com   \n",
              "3   3  15 Civilians Killed In Single US Airstrike Hav...     Jessica Purkiss   \n",
              "4   4  Iranian woman jailed for fictional unpublished...      Howard Portnoy   \n",
              "\n",
              "                                                text  label  \n",
              "0  House Dem Aide: We Didn’t Even See Comey’s Let...      1  \n",
              "1  Ever get the feeling your life circles the rou...      0  \n",
              "2  Why the Truth Might Get You Fired October 29, ...      1  \n",
              "3  Videos 15 Civilians Killed In Single US Airstr...      1  \n",
              "4  Print \\nAn Iranian woman has been sentenced to...      1  "
            ]
          },
          "execution_count": 21,
          "metadata": {},
          "output_type": "execute_result"
        }
      ],
      "source": [
        "# print the first 5 rows of the dataframe\n",
        "news_dataset.head()"
      ]
    },
    {
      "cell_type": "code",
      "execution_count": 22,
      "metadata": {
        "colab": {
          "base_uri": "https://localhost:8080/"
        },
        "id": "QYkDi4SwxlKi",
        "outputId": "204c4b11-2d09-4c3e-ff1f-4ee9d3c5bc92"
      },
      "outputs": [
        {
          "data": {
            "text/plain": [
              "id           0\n",
              "title      558\n",
              "author    1957\n",
              "text        39\n",
              "label        0\n",
              "dtype: int64"
            ]
          },
          "execution_count": 22,
          "metadata": {},
          "output_type": "execute_result"
        }
      ],
      "source": [
        "# counting the number of missing values in the dataset\n",
        "news_dataset.isnull().sum()"
      ]
    },
    {
      "cell_type": "code",
      "execution_count": 23,
      "metadata": {
        "id": "Mc04lQrhx57m"
      },
      "outputs": [],
      "source": [
        "# replacing the null values with empty string\n",
        "news_dataset = news_dataset.fillna('')"
      ]
    },
    {
      "cell_type": "code",
      "execution_count": 24,
      "metadata": {
        "id": "H7TZgHszygxj"
      },
      "outputs": [],
      "source": [
        "# merging the author name and news title\n",
        "news_dataset['content'] = news_dataset['author']+' '+news_dataset['title']"
      ]
    },
    {
      "cell_type": "code",
      "execution_count": 27,
      "metadata": {},
      "outputs": [
        {
          "data": {
            "text/html": [
              "<div>\n",
              "<style scoped>\n",
              "    .dataframe tbody tr th:only-of-type {\n",
              "        vertical-align: middle;\n",
              "    }\n",
              "\n",
              "    .dataframe tbody tr th {\n",
              "        vertical-align: top;\n",
              "    }\n",
              "\n",
              "    .dataframe thead th {\n",
              "        text-align: right;\n",
              "    }\n",
              "</style>\n",
              "<table border=\"1\" class=\"dataframe\">\n",
              "  <thead>\n",
              "    <tr style=\"text-align: right;\">\n",
              "      <th></th>\n",
              "      <th>id</th>\n",
              "      <th>title</th>\n",
              "      <th>author</th>\n",
              "      <th>text</th>\n",
              "      <th>label</th>\n",
              "      <th>content</th>\n",
              "    </tr>\n",
              "  </thead>\n",
              "  <tbody>\n",
              "    <tr>\n",
              "      <th>0</th>\n",
              "      <td>0</td>\n",
              "      <td>House Dem Aide: We Didn’t Even See Comey’s Let...</td>\n",
              "      <td>Darrell Lucus</td>\n",
              "      <td>House Dem Aide: We Didn’t Even See Comey’s Let...</td>\n",
              "      <td>1</td>\n",
              "      <td>Darrell Lucus House Dem Aide: We Didn’t Even S...</td>\n",
              "    </tr>\n",
              "    <tr>\n",
              "      <th>1</th>\n",
              "      <td>1</td>\n",
              "      <td>FLYNN: Hillary Clinton, Big Woman on Campus - ...</td>\n",
              "      <td>Daniel J. Flynn</td>\n",
              "      <td>Ever get the feeling your life circles the rou...</td>\n",
              "      <td>0</td>\n",
              "      <td>Daniel J. Flynn FLYNN: Hillary Clinton, Big Wo...</td>\n",
              "    </tr>\n",
              "    <tr>\n",
              "      <th>2</th>\n",
              "      <td>2</td>\n",
              "      <td>Why the Truth Might Get You Fired</td>\n",
              "      <td>Consortiumnews.com</td>\n",
              "      <td>Why the Truth Might Get You Fired October 29, ...</td>\n",
              "      <td>1</td>\n",
              "      <td>Consortiumnews.com Why the Truth Might Get You...</td>\n",
              "    </tr>\n",
              "    <tr>\n",
              "      <th>3</th>\n",
              "      <td>3</td>\n",
              "      <td>15 Civilians Killed In Single US Airstrike Hav...</td>\n",
              "      <td>Jessica Purkiss</td>\n",
              "      <td>Videos 15 Civilians Killed In Single US Airstr...</td>\n",
              "      <td>1</td>\n",
              "      <td>Jessica Purkiss 15 Civilians Killed In Single ...</td>\n",
              "    </tr>\n",
              "    <tr>\n",
              "      <th>4</th>\n",
              "      <td>4</td>\n",
              "      <td>Iranian woman jailed for fictional unpublished...</td>\n",
              "      <td>Howard Portnoy</td>\n",
              "      <td>Print \\nAn Iranian woman has been sentenced to...</td>\n",
              "      <td>1</td>\n",
              "      <td>Howard Portnoy Iranian woman jailed for fictio...</td>\n",
              "    </tr>\n",
              "  </tbody>\n",
              "</table>\n",
              "</div>"
            ],
            "text/plain": [
              "   id                                              title              author  \\\n",
              "0   0  House Dem Aide: We Didn’t Even See Comey’s Let...       Darrell Lucus   \n",
              "1   1  FLYNN: Hillary Clinton, Big Woman on Campus - ...     Daniel J. Flynn   \n",
              "2   2                  Why the Truth Might Get You Fired  Consortiumnews.com   \n",
              "3   3  15 Civilians Killed In Single US Airstrike Hav...     Jessica Purkiss   \n",
              "4   4  Iranian woman jailed for fictional unpublished...      Howard Portnoy   \n",
              "\n",
              "                                                text  label  \\\n",
              "0  House Dem Aide: We Didn’t Even See Comey’s Let...      1   \n",
              "1  Ever get the feeling your life circles the rou...      0   \n",
              "2  Why the Truth Might Get You Fired October 29, ...      1   \n",
              "3  Videos 15 Civilians Killed In Single US Airstr...      1   \n",
              "4  Print \\nAn Iranian woman has been sentenced to...      1   \n",
              "\n",
              "                                             content  \n",
              "0  Darrell Lucus House Dem Aide: We Didn’t Even S...  \n",
              "1  Daniel J. Flynn FLYNN: Hillary Clinton, Big Wo...  \n",
              "2  Consortiumnews.com Why the Truth Might Get You...  \n",
              "3  Jessica Purkiss 15 Civilians Killed In Single ...  \n",
              "4  Howard Portnoy Iranian woman jailed for fictio...  "
            ]
          },
          "execution_count": 27,
          "metadata": {},
          "output_type": "execute_result"
        }
      ],
      "source": [
        "news_dataset.head(5)"
      ]
    },
    {
      "cell_type": "code",
      "execution_count": 28,
      "metadata": {},
      "outputs": [
        {
          "data": {
            "text/plain": [
              "id         0\n",
              "title      0\n",
              "author     0\n",
              "text       0\n",
              "label      0\n",
              "content    0\n",
              "dtype: int64"
            ]
          },
          "execution_count": 28,
          "metadata": {},
          "output_type": "execute_result"
        }
      ],
      "source": [
        "news_dataset.isnull().sum()"
      ]
    },
    {
      "cell_type": "code",
      "execution_count": 17,
      "metadata": {
        "colab": {
          "base_uri": "https://localhost:8080/"
        },
        "id": "cbF6GBBpzBey",
        "outputId": "f7776d4b-ab23-468c-8aa7-2ecbb67d7487"
      },
      "outputs": [
        {
          "name": "stdout",
          "output_type": "stream",
          "text": [
            "0        Darrell Lucus House Dem Aide: We Didn’t Even S...\n",
            "1        Daniel J. Flynn FLYNN: Hillary Clinton, Big Wo...\n",
            "2        Consortiumnews.com Why the Truth Might Get You...\n",
            "3        Jessica Purkiss 15 Civilians Killed In Single ...\n",
            "4        Howard Portnoy Iranian woman jailed for fictio...\n",
            "5        Daniel Nussbaum Jackie Mason: Hollywood Would ...\n",
            "6         Life: Life Of Luxury: Elton John’s 6 Favorite...\n",
            "7        Alissa J. Rubin Benoît Hamon Wins French Socia...\n",
            "8         Excerpts From a Draft Script for Donald Trump...\n",
            "9        Megan Twohey and Scott Shane A Back-Channel Pl...\n",
            "10       Aaron Klein Obama’s Organizing for Action Part...\n",
            "11       Chris Tomlinson BBC Comedy Sketch \"Real Housew...\n",
            "12       Amando Flavio Russian Researchers Discover Sec...\n",
            "13       Jason Ditz US Officials See No Link Between Tr...\n",
            "14       AnotherAnnie Re: Yes, There Are Paid Governmen...\n",
            "15       Jack Williams In Major League Soccer, Argentin...\n",
            "16       Michael Corkery and Stacy Cowley Wells Fargo C...\n",
            "17       Starkman Anonymous Donor Pays $2.5 Million To ...\n",
            "18                       The Doc FBI Closes In On Hillary!\n",
            "19       Jeff Poor Chuck Todd: ’BuzzFeed Did Donald Tru...\n",
            "20        News: Hope For The GOP: A Nude Paul Ryan Has ...\n",
            "21       Jerome Hudson Monica Lewinsky, Clinton Sex Sca...\n",
            "22       Pam Key Rob Reiner: Trump Is ’Mentally Unstabl...\n",
            "23        Massachusetts Cop’s Wife Busted for Pinning F...\n",
            "24       Donald G. McNeil Jr. and Pam Belluck Abortion ...\n",
            "25       Ira Helfand Nukes and the UN: a Historic Treat...\n",
            "26       Aaron Klein and Ali Waked EXCLUSIVE: Islamic S...\n",
            "27       Amanda Shea Humiliated Hillary Tries To Hide W...\n",
            "28       Jim Dwyer Andrea Tantaros of Fox News Claims R...\n",
            "29       Mark Landler How Hillary Clinton Became a Hawk...\n",
            "                               ...                        \n",
            "20770    Iron Sheik HUMA ABEDIN SWORE UNDER OATH SHE GA...\n",
            "20771                                          Letsbereal \n",
            "20772                                         beersession \n",
            "20773    Vicki Batts Australia to hunt down anti-vax nu...\n",
            "20774    Liam Deacon Government Report: Islamists Build...\n",
            "20775    Arnaldo Rodgers How this WWII airman is helpin...\n",
            "20776    Jameson Parker Trump Campaign Says Hillary Sup...\n",
            "20777    admin Editor of Austria’s Largest Paper Charge...\n",
            "20778    Neil Irwin This Is a Jobs Report That Democrat...\n",
            "20779    Thomas D. Williams, Ph.D. Christians in 2017 ’...\n",
            "20780    Christine Hauser Florida Woman Charged in Deat...\n",
            "20781    Heather Callaghan Time is Running Out to Stop ...\n",
            "20782    The Doc The Fix Is In: NBC Affiliate Accidenta...\n",
            "20783    Charles McDermid Samsung, Kim Jong-un, Rex Til...\n",
            "20784    Debbie Menon Comment on World Heaves Sigh of R...\n",
            "20785    Ann Coulter Ann Coulter: How to Provide Univer...\n",
            "20786     Government Forces Advancing at Damascus-Alepp...\n",
            "20787    Ian Mason Sally Yates Won’t Say If Trump Was W...\n",
            "20788    Joe Clark Maine’s Gov. LePage Threatens To ‘In...\n",
            "20789    Warner Todd Huston Sen. McConnell: The Supreme...\n",
            "20790    Adam Shaw Nikki Haley Blasts U.N. Human Rights...\n",
            "20791    Daniel Greenfield Lawyer Who Kept Hillary Camp...\n",
            "20792    John Hayward Jakarta Bombing Kills Three Polic...\n",
            "20793    Robert Rich Idiot Who Destroyed Trump Hollywoo...\n",
            "20794    Lee Stranahan Trump: Putin ’Very Smart’ to Not...\n",
            "20795    Jerome Hudson Rapper T.I.: Trump a ’Poster Chi...\n",
            "20796    Benjamin Hoffman N.F.L. Playoffs: Schedule, Ma...\n",
            "20797    Michael J. de la Merced and Rachel Abrams Macy...\n",
            "20798    Alex Ansary NATO, Russia To Hold Parallel Exer...\n",
            "20799              David Swanson What Keeps the F-35 Alive\n",
            "Name: content, Length: 20800, dtype: object\n"
          ]
        }
      ],
      "source": [
        "print(news_dataset['content'])"
      ]
    },
    {
      "cell_type": "code",
      "execution_count": 29,
      "metadata": {},
      "outputs": [
        {
          "data": {
            "text/html": [
              "<div>\n",
              "<style scoped>\n",
              "    .dataframe tbody tr th:only-of-type {\n",
              "        vertical-align: middle;\n",
              "    }\n",
              "\n",
              "    .dataframe tbody tr th {\n",
              "        vertical-align: top;\n",
              "    }\n",
              "\n",
              "    .dataframe thead th {\n",
              "        text-align: right;\n",
              "    }\n",
              "</style>\n",
              "<table border=\"1\" class=\"dataframe\">\n",
              "  <thead>\n",
              "    <tr style=\"text-align: right;\">\n",
              "      <th></th>\n",
              "      <th>id</th>\n",
              "      <th>title</th>\n",
              "      <th>author</th>\n",
              "      <th>text</th>\n",
              "      <th>label</th>\n",
              "      <th>content</th>\n",
              "    </tr>\n",
              "  </thead>\n",
              "  <tbody>\n",
              "    <tr>\n",
              "      <th>0</th>\n",
              "      <td>0</td>\n",
              "      <td>House Dem Aide: We Didn’t Even See Comey’s Let...</td>\n",
              "      <td>Darrell Lucus</td>\n",
              "      <td>House Dem Aide: We Didn’t Even See Comey’s Let...</td>\n",
              "      <td>1</td>\n",
              "      <td>Darrell Lucus House Dem Aide: We Didn’t Even S...</td>\n",
              "    </tr>\n",
              "    <tr>\n",
              "      <th>1</th>\n",
              "      <td>1</td>\n",
              "      <td>FLYNN: Hillary Clinton, Big Woman on Campus - ...</td>\n",
              "      <td>Daniel J. Flynn</td>\n",
              "      <td>Ever get the feeling your life circles the rou...</td>\n",
              "      <td>0</td>\n",
              "      <td>Daniel J. Flynn FLYNN: Hillary Clinton, Big Wo...</td>\n",
              "    </tr>\n",
              "    <tr>\n",
              "      <th>2</th>\n",
              "      <td>2</td>\n",
              "      <td>Why the Truth Might Get You Fired</td>\n",
              "      <td>Consortiumnews.com</td>\n",
              "      <td>Why the Truth Might Get You Fired October 29, ...</td>\n",
              "      <td>1</td>\n",
              "      <td>Consortiumnews.com Why the Truth Might Get You...</td>\n",
              "    </tr>\n",
              "    <tr>\n",
              "      <th>3</th>\n",
              "      <td>3</td>\n",
              "      <td>15 Civilians Killed In Single US Airstrike Hav...</td>\n",
              "      <td>Jessica Purkiss</td>\n",
              "      <td>Videos 15 Civilians Killed In Single US Airstr...</td>\n",
              "      <td>1</td>\n",
              "      <td>Jessica Purkiss 15 Civilians Killed In Single ...</td>\n",
              "    </tr>\n",
              "    <tr>\n",
              "      <th>4</th>\n",
              "      <td>4</td>\n",
              "      <td>Iranian woman jailed for fictional unpublished...</td>\n",
              "      <td>Howard Portnoy</td>\n",
              "      <td>Print \\nAn Iranian woman has been sentenced to...</td>\n",
              "      <td>1</td>\n",
              "      <td>Howard Portnoy Iranian woman jailed for fictio...</td>\n",
              "    </tr>\n",
              "  </tbody>\n",
              "</table>\n",
              "</div>"
            ],
            "text/plain": [
              "   id                                              title              author  \\\n",
              "0   0  House Dem Aide: We Didn’t Even See Comey’s Let...       Darrell Lucus   \n",
              "1   1  FLYNN: Hillary Clinton, Big Woman on Campus - ...     Daniel J. Flynn   \n",
              "2   2                  Why the Truth Might Get You Fired  Consortiumnews.com   \n",
              "3   3  15 Civilians Killed In Single US Airstrike Hav...     Jessica Purkiss   \n",
              "4   4  Iranian woman jailed for fictional unpublished...      Howard Portnoy   \n",
              "\n",
              "                                                text  label  \\\n",
              "0  House Dem Aide: We Didn’t Even See Comey’s Let...      1   \n",
              "1  Ever get the feeling your life circles the rou...      0   \n",
              "2  Why the Truth Might Get You Fired October 29, ...      1   \n",
              "3  Videos 15 Civilians Killed In Single US Airstr...      1   \n",
              "4  Print \\nAn Iranian woman has been sentenced to...      1   \n",
              "\n",
              "                                             content  \n",
              "0  Darrell Lucus House Dem Aide: We Didn’t Even S...  \n",
              "1  Daniel J. Flynn FLYNN: Hillary Clinton, Big Wo...  \n",
              "2  Consortiumnews.com Why the Truth Might Get You...  \n",
              "3  Jessica Purkiss 15 Civilians Killed In Single ...  \n",
              "4  Howard Portnoy Iranian woman jailed for fictio...  "
            ]
          },
          "execution_count": 29,
          "metadata": {},
          "output_type": "execute_result"
        }
      ],
      "source": [
        "news_dataset.head(5)"
      ]
    },
    {
      "cell_type": "code",
      "execution_count": 31,
      "metadata": {
        "id": "LfBtAvLtzEo6"
      },
      "outputs": [],
      "source": [
        "# separating the data & label\n",
        "X = news_dataset.drop(columns='label', axis=1)\n",
        "Y = news_dataset['label']"
      ]
    },
    {
      "cell_type": "code",
      "execution_count": 32,
      "metadata": {},
      "outputs": [
        {
          "data": {
            "text/html": [
              "<div>\n",
              "<style scoped>\n",
              "    .dataframe tbody tr th:only-of-type {\n",
              "        vertical-align: middle;\n",
              "    }\n",
              "\n",
              "    .dataframe tbody tr th {\n",
              "        vertical-align: top;\n",
              "    }\n",
              "\n",
              "    .dataframe thead th {\n",
              "        text-align: right;\n",
              "    }\n",
              "</style>\n",
              "<table border=\"1\" class=\"dataframe\">\n",
              "  <thead>\n",
              "    <tr style=\"text-align: right;\">\n",
              "      <th></th>\n",
              "      <th>id</th>\n",
              "      <th>title</th>\n",
              "      <th>author</th>\n",
              "      <th>text</th>\n",
              "      <th>content</th>\n",
              "    </tr>\n",
              "  </thead>\n",
              "  <tbody>\n",
              "    <tr>\n",
              "      <th>0</th>\n",
              "      <td>0</td>\n",
              "      <td>House Dem Aide: We Didn’t Even See Comey’s Let...</td>\n",
              "      <td>Darrell Lucus</td>\n",
              "      <td>House Dem Aide: We Didn’t Even See Comey’s Let...</td>\n",
              "      <td>Darrell Lucus House Dem Aide: We Didn’t Even S...</td>\n",
              "    </tr>\n",
              "    <tr>\n",
              "      <th>1</th>\n",
              "      <td>1</td>\n",
              "      <td>FLYNN: Hillary Clinton, Big Woman on Campus - ...</td>\n",
              "      <td>Daniel J. Flynn</td>\n",
              "      <td>Ever get the feeling your life circles the rou...</td>\n",
              "      <td>Daniel J. Flynn FLYNN: Hillary Clinton, Big Wo...</td>\n",
              "    </tr>\n",
              "    <tr>\n",
              "      <th>2</th>\n",
              "      <td>2</td>\n",
              "      <td>Why the Truth Might Get You Fired</td>\n",
              "      <td>Consortiumnews.com</td>\n",
              "      <td>Why the Truth Might Get You Fired October 29, ...</td>\n",
              "      <td>Consortiumnews.com Why the Truth Might Get You...</td>\n",
              "    </tr>\n",
              "    <tr>\n",
              "      <th>3</th>\n",
              "      <td>3</td>\n",
              "      <td>15 Civilians Killed In Single US Airstrike Hav...</td>\n",
              "      <td>Jessica Purkiss</td>\n",
              "      <td>Videos 15 Civilians Killed In Single US Airstr...</td>\n",
              "      <td>Jessica Purkiss 15 Civilians Killed In Single ...</td>\n",
              "    </tr>\n",
              "    <tr>\n",
              "      <th>4</th>\n",
              "      <td>4</td>\n",
              "      <td>Iranian woman jailed for fictional unpublished...</td>\n",
              "      <td>Howard Portnoy</td>\n",
              "      <td>Print \\nAn Iranian woman has been sentenced to...</td>\n",
              "      <td>Howard Portnoy Iranian woman jailed for fictio...</td>\n",
              "    </tr>\n",
              "  </tbody>\n",
              "</table>\n",
              "</div>"
            ],
            "text/plain": [
              "   id                                              title              author  \\\n",
              "0   0  House Dem Aide: We Didn’t Even See Comey’s Let...       Darrell Lucus   \n",
              "1   1  FLYNN: Hillary Clinton, Big Woman on Campus - ...     Daniel J. Flynn   \n",
              "2   2                  Why the Truth Might Get You Fired  Consortiumnews.com   \n",
              "3   3  15 Civilians Killed In Single US Airstrike Hav...     Jessica Purkiss   \n",
              "4   4  Iranian woman jailed for fictional unpublished...      Howard Portnoy   \n",
              "\n",
              "                                                text  \\\n",
              "0  House Dem Aide: We Didn’t Even See Comey’s Let...   \n",
              "1  Ever get the feeling your life circles the rou...   \n",
              "2  Why the Truth Might Get You Fired October 29, ...   \n",
              "3  Videos 15 Civilians Killed In Single US Airstr...   \n",
              "4  Print \\nAn Iranian woman has been sentenced to...   \n",
              "\n",
              "                                             content  \n",
              "0  Darrell Lucus House Dem Aide: We Didn’t Even S...  \n",
              "1  Daniel J. Flynn FLYNN: Hillary Clinton, Big Wo...  \n",
              "2  Consortiumnews.com Why the Truth Might Get You...  \n",
              "3  Jessica Purkiss 15 Civilians Killed In Single ...  \n",
              "4  Howard Portnoy Iranian woman jailed for fictio...  "
            ]
          },
          "execution_count": 32,
          "metadata": {},
          "output_type": "execute_result"
        }
      ],
      "source": [
        "X.head(5)"
      ]
    },
    {
      "cell_type": "code",
      "execution_count": 19,
      "metadata": {
        "colab": {
          "base_uri": "https://localhost:8080/"
        },
        "id": "oHPBr540zl1h",
        "outputId": "45a8b684-6d35-43d4-f24f-8a8a091b69ad"
      },
      "outputs": [
        {
          "name": "stdout",
          "output_type": "stream",
          "text": [
            "          id                                              title  \\\n",
            "0          0  House Dem Aide: We Didn’t Even See Comey’s Let...   \n",
            "1          1  FLYNN: Hillary Clinton, Big Woman on Campus - ...   \n",
            "2          2                  Why the Truth Might Get You Fired   \n",
            "3          3  15 Civilians Killed In Single US Airstrike Hav...   \n",
            "4          4  Iranian woman jailed for fictional unpublished...   \n",
            "5          5  Jackie Mason: Hollywood Would Love Trump if He...   \n",
            "6          6  Life: Life Of Luxury: Elton John’s 6 Favorite ...   \n",
            "7          7  Benoît Hamon Wins French Socialist Party’s Pre...   \n",
            "8          8  Excerpts From a Draft Script for Donald Trump’...   \n",
            "9          9  A Back-Channel Plan for Ukraine and Russia, Co...   \n",
            "10        10  Obama’s Organizing for Action Partners with So...   \n",
            "11        11  BBC Comedy Sketch \"Real Housewives of ISIS\" Ca...   \n",
            "12        12  Russian Researchers Discover Secret Nazi Milit...   \n",
            "13        13  US Officials See No Link Between Trump and Russia   \n",
            "14        14  Re: Yes, There Are Paid Government Trolls On S...   \n",
            "15        15  In Major League Soccer, Argentines Find a Home...   \n",
            "16        16  Wells Fargo Chief Abruptly Steps Down - The Ne...   \n",
            "17        17  Anonymous Donor Pays $2.5 Million To Release E...   \n",
            "18        18                          FBI Closes In On Hillary!   \n",
            "19        19  Chuck Todd: ’BuzzFeed Did Donald Trump a Polit...   \n",
            "20        20  News: Hope For The GOP: A Nude Paul Ryan Has J...   \n",
            "21        21  Monica Lewinsky, Clinton Sex Scandal Set for ’...   \n",
            "22        22  Rob Reiner: Trump Is ’Mentally Unstable’ - Bre...   \n",
            "23        23  Massachusetts Cop’s Wife Busted for Pinning Fa...   \n",
            "24        24  Abortion Pill Orders Rise in 7 Latin American ...   \n",
            "25        25  Nukes and the UN: a Historic Treaty to Ban Nuc...   \n",
            "26        26  EXCLUSIVE: Islamic State Supporters Vow to ‘Sh...   \n",
            "27        27  Humiliated Hillary Tries To Hide What Camera C...   \n",
            "28        28  Andrea Tantaros of Fox News Claims Retaliation...   \n",
            "29        29  How Hillary Clinton Became a Hawk - The New Yo...   \n",
            "...      ...                                                ...   \n",
            "20770  20770  HUMA ABEDIN SWORE UNDER OATH SHE GAVE UP ‘ALL ...   \n",
            "20771  20771                                                      \n",
            "20772  20772                                                      \n",
            "20773  20773  Australia to hunt down anti-vax nurses and pro...   \n",
            "20774  20774  Government Report: Islamists Building ’Paralle...   \n",
            "20775  20775  How this WWII airman is helping veterans heal ...   \n",
            "20776  20776  Trump Campaign Says Hillary Supporter Tried As...   \n",
            "20777  20777  Editor of Austria’s Largest Paper Charged with...   \n",
            "20778  20778  This Is a Jobs Report That Democrats Can Boast...   \n",
            "20779  20779  Christians in 2017 ’Most Persecuted Group in t...   \n",
            "20780  20780  Florida Woman Charged in Death of Infant in ‘C...   \n",
            "20781  20781  Time is Running Out to Stop Kratom Ban – Need ...   \n",
            "20782  20782  The Fix Is In: NBC Affiliate Accidentally Post...   \n",
            "20783  20783  Samsung, Kim Jong-un, Rex Tillerson: Your Morn...   \n",
            "20784  20784  Comment on World Heaves Sigh of Relief after T...   \n",
            "20785  20785  Ann Coulter: How to Provide Universal Health C...   \n",
            "20786  20786  Government Forces Advancing at Damascus-Aleppo...   \n",
            "20787  20787  Sally Yates Won’t Say If Trump Was Wiretapped ...   \n",
            "20788  20788  Maine’s Gov. LePage Threatens To ‘Investigate’...   \n",
            "20789  20789  Sen. McConnell: The Supreme Court Vacancy Was ...   \n",
            "20790  20790  Nikki Haley Blasts U.N. Human Rights Office fo...   \n",
            "20791  20791  Lawyer Who Kept Hillary Campaign Chief Out of ...   \n",
            "20792  20792  Jakarta Bombing Kills Three Police Officers, L...   \n",
            "20793  20793  Idiot Who Destroyed Trump Hollywood Star Gets ...   \n",
            "20794  20794  Trump: Putin ’Very Smart’ to Not Retaliate ove...   \n",
            "20795  20795  Rapper T.I.: Trump a ’Poster Child For White S...   \n",
            "20796  20796  N.F.L. Playoffs: Schedule, Matchups and Odds -...   \n",
            "20797  20797  Macy’s Is Said to Receive Takeover Approach by...   \n",
            "20798  20798  NATO, Russia To Hold Parallel Exercises In Bal...   \n",
            "20799  20799                          What Keeps the F-35 Alive   \n",
            "\n",
            "                                          author  \\\n",
            "0                                  Darrell Lucus   \n",
            "1                                Daniel J. Flynn   \n",
            "2                             Consortiumnews.com   \n",
            "3                                Jessica Purkiss   \n",
            "4                                 Howard Portnoy   \n",
            "5                                Daniel Nussbaum   \n",
            "6                                                  \n",
            "7                                Alissa J. Rubin   \n",
            "8                                                  \n",
            "9                   Megan Twohey and Scott Shane   \n",
            "10                                   Aaron Klein   \n",
            "11                               Chris Tomlinson   \n",
            "12                                 Amando Flavio   \n",
            "13                                    Jason Ditz   \n",
            "14                                  AnotherAnnie   \n",
            "15                                 Jack Williams   \n",
            "16              Michael Corkery and Stacy Cowley   \n",
            "17                                      Starkman   \n",
            "18                                       The Doc   \n",
            "19                                     Jeff Poor   \n",
            "20                                                 \n",
            "21                                 Jerome Hudson   \n",
            "22                                       Pam Key   \n",
            "23                                                 \n",
            "24          Donald G. McNeil Jr. and Pam Belluck   \n",
            "25                                   Ira Helfand   \n",
            "26                     Aaron Klein and Ali Waked   \n",
            "27                                   Amanda Shea   \n",
            "28                                     Jim Dwyer   \n",
            "29                                  Mark Landler   \n",
            "...                                          ...   \n",
            "20770                                 Iron Sheik   \n",
            "20771                                 Letsbereal   \n",
            "20772                                beersession   \n",
            "20773                                Vicki Batts   \n",
            "20774                                Liam Deacon   \n",
            "20775                            Arnaldo Rodgers   \n",
            "20776                             Jameson Parker   \n",
            "20777                                      admin   \n",
            "20778                                 Neil Irwin   \n",
            "20779                  Thomas D. Williams, Ph.D.   \n",
            "20780                           Christine Hauser   \n",
            "20781                          Heather Callaghan   \n",
            "20782                                    The Doc   \n",
            "20783                           Charles McDermid   \n",
            "20784                               Debbie Menon   \n",
            "20785                                Ann Coulter   \n",
            "20786                                              \n",
            "20787                                  Ian Mason   \n",
            "20788                                  Joe Clark   \n",
            "20789                         Warner Todd Huston   \n",
            "20790                                  Adam Shaw   \n",
            "20791                          Daniel Greenfield   \n",
            "20792                               John Hayward   \n",
            "20793                                Robert Rich   \n",
            "20794                              Lee Stranahan   \n",
            "20795                              Jerome Hudson   \n",
            "20796                           Benjamin Hoffman   \n",
            "20797  Michael J. de la Merced and Rachel Abrams   \n",
            "20798                                Alex Ansary   \n",
            "20799                              David Swanson   \n",
            "\n",
            "                                                    text  \\\n",
            "0      House Dem Aide: We Didn’t Even See Comey’s Let...   \n",
            "1      Ever get the feeling your life circles the rou...   \n",
            "2      Why the Truth Might Get You Fired October 29, ...   \n",
            "3      Videos 15 Civilians Killed In Single US Airstr...   \n",
            "4      Print \\nAn Iranian woman has been sentenced to...   \n",
            "5      In these trying times, Jackie Mason is the Voi...   \n",
            "6      Ever wonder how Britain’s most iconic pop pian...   \n",
            "7      PARIS  —   France chose an idealistic, traditi...   \n",
            "8      Donald J. Trump is scheduled to make a highly ...   \n",
            "9      A week before Michael T. Flynn resigned as nat...   \n",
            "10     Organizing for Action, the activist group that...   \n",
            "11     The BBC produced spoof on the “Real Housewives...   \n",
            "12     The mystery surrounding The Third Reich and Na...   \n",
            "13     Clinton Campaign Demands FBI Affirm Trump's Ru...   \n",
            "14     Yes, There Are Paid Government Trolls On Socia...   \n",
            "15     Guillermo Barros Schelotto was not the first A...   \n",
            "16     The scandal engulfing Wells Fargo toppled its ...   \n",
            "17     A Caddo Nation tribal leader has just been fre...   \n",
            "18     FBI Closes In On Hillary! Posted on Home » Hea...   \n",
            "19     Wednesday after   Donald Trump’s press confere...   \n",
            "20     Email \\nSince Donald Trump entered the electio...   \n",
            "21     Screenwriter Ryan Murphy, who has produced the...   \n",
            "22     Sunday on MSNBC’s “AM Joy,” actor and director...   \n",
            "23     Massachusetts Cop’s Wife Busted for Pinning Fa...   \n",
            "24     Orders for abortion pills by women in seven La...   \n",
            "25     Email \\nIn an historic move the United Nations...   \n",
            "26     JERUSALEM  —   Islamic State sympathizers and ...   \n",
            "27     Humiliated Hillary Tries To Hide What Camera C...   \n",
            "28     Andrea Tantaros, a former Fox News host, charg...   \n",
            "29     Hillary Clinton sat in the hideaway study off ...   \n",
            "...                                                  ...   \n",
            "20770  Home › POLITICS | US NEWS › HUMA ABEDIN SWORE ...   \n",
            "20771  DYN's Statement on Last Week's Botnet Attack h...   \n",
            "20772  Kinda reminds me of when Carter gave away the ...   \n",
            "20773  Australia to hunt down anti-vax nurses and pro...   \n",
            "20774  Aided by a politically correct culture of “tol...   \n",
            "20775  ‹ › Arnaldo Rodgers is a trained and educated ...   \n",
            "20776  Donald Trump was rushed from a rally stage by ...   \n",
            "20777  Breitbart October 26, 2016 \\nAn editor of Aust...   \n",
            "20778  There’s not much to say about the July jobs nu...   \n",
            "20779  In many parts of the world, Christians gatheri...   \n",
            "20780  Early on Oct. 6, Erin   was awakened by the so...   \n",
            "20781  By Brandon Turbeville When the DEA announced t...   \n",
            "20782  Home » Headlines » World News » The Fix Is In:...   \n",
            "20783  Good morning.  Here’s what you need to know: •...   \n",
            "20784    Finian Cunningham has written extensively on...   \n",
            "20785  The first sentence of Congress’ Obamacare repe...   \n",
            "20786  #FROMTHEFRONT #MAPS 22.11.2016 - 1,361 views 5...   \n",
            "20787  Former Deputy Attorney General Sally Yates dec...   \n",
            "20788  Google Pinterest Digg Linkedin Reddit Stumbleu...   \n",
            "20789  Senate Majority Leader Mitch McConnell (R, KY)...   \n",
            "20790  U. S Ambassador to the United Nations Nikki Ha...   \n",
            "20791  Lawyer Who Kept Hillary Campaign Chief Out of ...   \n",
            "20792  Two suicide bombers attacked a bus station in ...   \n",
            "20793  Share This \\nAlthough the vandal who thought i...   \n",
            "20794  Donald Trump took to Twitter Friday to praise ...   \n",
            "20795  Rapper T. I. unloaded on black celebrities who...   \n",
            "20796  When the Green Bay Packers lost to the Washing...   \n",
            "20797  The Macy’s of today grew from the union of sev...   \n",
            "20798  NATO, Russia To Hold Parallel Exercises In Bal...   \n",
            "20799    David Swanson is an author, activist, journa...   \n",
            "\n",
            "                                                 content  \n",
            "0      Darrell Lucus House Dem Aide: We Didn’t Even S...  \n",
            "1      Daniel J. Flynn FLYNN: Hillary Clinton, Big Wo...  \n",
            "2      Consortiumnews.com Why the Truth Might Get You...  \n",
            "3      Jessica Purkiss 15 Civilians Killed In Single ...  \n",
            "4      Howard Portnoy Iranian woman jailed for fictio...  \n",
            "5      Daniel Nussbaum Jackie Mason: Hollywood Would ...  \n",
            "6       Life: Life Of Luxury: Elton John’s 6 Favorite...  \n",
            "7      Alissa J. Rubin Benoît Hamon Wins French Socia...  \n",
            "8       Excerpts From a Draft Script for Donald Trump...  \n",
            "9      Megan Twohey and Scott Shane A Back-Channel Pl...  \n",
            "10     Aaron Klein Obama’s Organizing for Action Part...  \n",
            "11     Chris Tomlinson BBC Comedy Sketch \"Real Housew...  \n",
            "12     Amando Flavio Russian Researchers Discover Sec...  \n",
            "13     Jason Ditz US Officials See No Link Between Tr...  \n",
            "14     AnotherAnnie Re: Yes, There Are Paid Governmen...  \n",
            "15     Jack Williams In Major League Soccer, Argentin...  \n",
            "16     Michael Corkery and Stacy Cowley Wells Fargo C...  \n",
            "17     Starkman Anonymous Donor Pays $2.5 Million To ...  \n",
            "18                     The Doc FBI Closes In On Hillary!  \n",
            "19     Jeff Poor Chuck Todd: ’BuzzFeed Did Donald Tru...  \n",
            "20      News: Hope For The GOP: A Nude Paul Ryan Has ...  \n",
            "21     Jerome Hudson Monica Lewinsky, Clinton Sex Sca...  \n",
            "22     Pam Key Rob Reiner: Trump Is ’Mentally Unstabl...  \n",
            "23      Massachusetts Cop’s Wife Busted for Pinning F...  \n",
            "24     Donald G. McNeil Jr. and Pam Belluck Abortion ...  \n",
            "25     Ira Helfand Nukes and the UN: a Historic Treat...  \n",
            "26     Aaron Klein and Ali Waked EXCLUSIVE: Islamic S...  \n",
            "27     Amanda Shea Humiliated Hillary Tries To Hide W...  \n",
            "28     Jim Dwyer Andrea Tantaros of Fox News Claims R...  \n",
            "29     Mark Landler How Hillary Clinton Became a Hawk...  \n",
            "...                                                  ...  \n",
            "20770  Iron Sheik HUMA ABEDIN SWORE UNDER OATH SHE GA...  \n",
            "20771                                        Letsbereal   \n",
            "20772                                       beersession   \n",
            "20773  Vicki Batts Australia to hunt down anti-vax nu...  \n",
            "20774  Liam Deacon Government Report: Islamists Build...  \n",
            "20775  Arnaldo Rodgers How this WWII airman is helpin...  \n",
            "20776  Jameson Parker Trump Campaign Says Hillary Sup...  \n",
            "20777  admin Editor of Austria’s Largest Paper Charge...  \n",
            "20778  Neil Irwin This Is a Jobs Report That Democrat...  \n",
            "20779  Thomas D. Williams, Ph.D. Christians in 2017 ’...  \n",
            "20780  Christine Hauser Florida Woman Charged in Deat...  \n",
            "20781  Heather Callaghan Time is Running Out to Stop ...  \n",
            "20782  The Doc The Fix Is In: NBC Affiliate Accidenta...  \n",
            "20783  Charles McDermid Samsung, Kim Jong-un, Rex Til...  \n",
            "20784  Debbie Menon Comment on World Heaves Sigh of R...  \n",
            "20785  Ann Coulter Ann Coulter: How to Provide Univer...  \n",
            "20786   Government Forces Advancing at Damascus-Alepp...  \n",
            "20787  Ian Mason Sally Yates Won’t Say If Trump Was W...  \n",
            "20788  Joe Clark Maine’s Gov. LePage Threatens To ‘In...  \n",
            "20789  Warner Todd Huston Sen. McConnell: The Supreme...  \n",
            "20790  Adam Shaw Nikki Haley Blasts U.N. Human Rights...  \n",
            "20791  Daniel Greenfield Lawyer Who Kept Hillary Camp...  \n",
            "20792  John Hayward Jakarta Bombing Kills Three Polic...  \n",
            "20793  Robert Rich Idiot Who Destroyed Trump Hollywoo...  \n",
            "20794  Lee Stranahan Trump: Putin ’Very Smart’ to Not...  \n",
            "20795  Jerome Hudson Rapper T.I.: Trump a ’Poster Chi...  \n",
            "20796  Benjamin Hoffman N.F.L. Playoffs: Schedule, Ma...  \n",
            "20797  Michael J. de la Merced and Rachel Abrams Macy...  \n",
            "20798  Alex Ansary NATO, Russia To Hold Parallel Exer...  \n",
            "20799            David Swanson What Keeps the F-35 Alive  \n",
            "\n",
            "[20800 rows x 5 columns]\n",
            "0        1\n",
            "1        0\n",
            "2        1\n",
            "3        1\n",
            "4        1\n",
            "5        0\n",
            "6        1\n",
            "7        0\n",
            "8        0\n",
            "9        0\n",
            "10       0\n",
            "11       0\n",
            "12       1\n",
            "13       1\n",
            "14       1\n",
            "15       0\n",
            "16       0\n",
            "17       1\n",
            "18       1\n",
            "19       0\n",
            "20       1\n",
            "21       0\n",
            "22       0\n",
            "23       1\n",
            "24       0\n",
            "25       1\n",
            "26       0\n",
            "27       1\n",
            "28       0\n",
            "29       0\n",
            "        ..\n",
            "20770    1\n",
            "20771    1\n",
            "20772    1\n",
            "20773    1\n",
            "20774    0\n",
            "20775    1\n",
            "20776    1\n",
            "20777    1\n",
            "20778    0\n",
            "20779    0\n",
            "20780    0\n",
            "20781    1\n",
            "20782    1\n",
            "20783    0\n",
            "20784    1\n",
            "20785    0\n",
            "20786    1\n",
            "20787    0\n",
            "20788    1\n",
            "20789    0\n",
            "20790    0\n",
            "20791    1\n",
            "20792    0\n",
            "20793    1\n",
            "20794    0\n",
            "20795    0\n",
            "20796    0\n",
            "20797    0\n",
            "20798    1\n",
            "20799    1\n",
            "Name: label, Length: 20800, dtype: int64\n"
          ]
        }
      ],
      "source": [
        "print(X)\n",
        "print(Y)"
      ]
    },
    {
      "cell_type": "markdown",
      "metadata": {
        "id": "0NwFcpqcz37a"
      },
      "source": [
        "Stemming:\n",
        "\n",
        "Stemming is the process of reducing a word to its Root word\n",
        "\n",
        "example:\n",
        "actor, actress, acting --> act"
      ]
    },
    {
      "cell_type": "code",
      "execution_count": 20,
      "metadata": {
        "id": "Ga_DaZxhzoWM"
      },
      "outputs": [],
      "source": [
        "port_stem = PorterStemmer()"
      ]
    },
    {
      "cell_type": "code",
      "execution_count": 21,
      "metadata": {
        "id": "zY-n0dCh0e-y"
      },
      "outputs": [],
      "source": [
        "def stemming(content):\n",
        "    stemmed_content = re.sub('[^a-zA-Z]',' ',content)\n",
        "    stemmed_content = stemmed_content.lower()\n",
        "    stemmed_content = stemmed_content.split()\n",
        "    stemmed_content = [port_stem.stem(word) for word in stemmed_content if not word in stopwords.words('english')]\n",
        "    stemmed_content = ' '.join(stemmed_content)\n",
        "    return stemmed_content"
      ]
    },
    {
      "cell_type": "code",
      "execution_count": 22,
      "metadata": {
        "id": "MBUIk4c94yTL"
      },
      "outputs": [],
      "source": [
        "news_dataset['content'] = news_dataset['content'].apply(stemming)"
      ]
    },
    {
      "cell_type": "code",
      "execution_count": 23,
      "metadata": {
        "colab": {
          "base_uri": "https://localhost:8080/"
        },
        "id": "xmwK-zyO5Stg",
        "outputId": "61de12b9-b9fa-486f-8c91-a5aec48d7fe6"
      },
      "outputs": [
        {
          "name": "stdout",
          "output_type": "stream",
          "text": [
            "0        darrel lucu hous dem aid even see comey letter...\n",
            "1        daniel j flynn flynn hillari clinton big woman...\n",
            "2                   consortiumnew com truth might get fire\n",
            "3        jessica purkiss civilian kill singl us airstri...\n",
            "4        howard portnoy iranian woman jail fiction unpu...\n",
            "5        daniel nussbaum jacki mason hollywood would lo...\n",
            "6        life life luxuri elton john favorit shark pict...\n",
            "7        alissa j rubin beno hamon win french socialist...\n",
            "8        excerpt draft script donald trump q ampa black...\n",
            "9        megan twohey scott shane back channel plan ukr...\n",
            "10       aaron klein obama organ action partner soro li...\n",
            "11       chri tomlinson bbc comedi sketch real housew i...\n",
            "12       amando flavio russian research discov secret n...\n",
            "13              jason ditz us offici see link trump russia\n",
            "14       anotheranni ye paid govern troll social media ...\n",
            "15       jack william major leagu soccer argentin find ...\n",
            "16       michael corkeri staci cowley well fargo chief ...\n",
            "17       starkman anonym donor pay million releas every...\n",
            "18                                   doc fbi close hillari\n",
            "19       jeff poor chuck todd buzzfe donald trump polit...\n",
            "20       news hope gop nude paul ryan emerg ayahuasca t...\n",
            "21       jerom hudson monica lewinski clinton sex scand...\n",
            "22       pam key rob reiner trump mental unstabl breitbart\n",
            "23       massachusett cop wife bust pin fake home invas...\n",
            "24       donald g mcneil jr pam belluck abort pill orde...\n",
            "25       ira helfand nuke un histor treati ban nuclear ...\n",
            "26       aaron klein ali wake exclus islam state suppor...\n",
            "27       amanda shea humili hillari tri hide camera cau...\n",
            "28       jim dwyer andrea tantaro fox news claim retali...\n",
            "29       mark landler hillari clinton becam hawk new yo...\n",
            "                               ...                        \n",
            "20770    iron sheik huma abedin swore oath gave devic s...\n",
            "20771                                              letsber\n",
            "20772                                             beersess\n",
            "20773    vicki batt australia hunt anti vax nurs prosec...\n",
            "20774    liam deacon govern report islamist build paral...\n",
            "20775    arnaldo rodger wwii airman help veteran heal h...\n",
            "20776    jameson parker trump campaign say hillari supp...\n",
            "20777    admin editor austria largest paper charg hate ...\n",
            "20778    neil irwin job report democrat boast new york ...\n",
            "20779      thoma william ph christian persecut group world\n",
            "20780    christin hauser florida woman charg death infa...\n",
            "20781    heather callaghan time run stop kratom ban nee...\n",
            "20782    doc fix nbc affili accident post elect result ...\n",
            "20783    charl mcdermid samsung kim jong un rex tillers...\n",
            "20784    debbi menon comment world heav sigh relief tru...\n",
            "20785    ann coulter ann coulter provid univers health ...\n",
            "20786    govern forc advanc damascu aleppo highway east...\n",
            "20787     ian mason salli yate say trump wiretap breitbart\n",
            "20788    joe clark main gov lepag threaten investig col...\n",
            "20789    warner todd huston sen mcconnel suprem court v...\n",
            "20790    adam shaw nikki haley blast u n human right of...\n",
            "20791    daniel greenfield lawyer kept hillari campaign...\n",
            "20792    john hayward jakarta bomb kill three polic off...\n",
            "20793    robert rich idiot destroy trump hollywood star...\n",
            "20794    lee stranahan trump putin smart retali obama s...\n",
            "20795    jerom hudson rapper trump poster child white s...\n",
            "20796    benjamin hoffman n f l playoff schedul matchup...\n",
            "20797    michael j de la merc rachel abram maci said re...\n",
            "20798    alex ansari nato russia hold parallel exercis ...\n",
            "20799                            david swanson keep f aliv\n",
            "Name: content, Length: 20800, dtype: object\n"
          ]
        }
      ],
      "source": [
        "print(news_dataset['content'])"
      ]
    },
    {
      "cell_type": "code",
      "execution_count": 34,
      "metadata": {},
      "outputs": [
        {
          "data": {
            "text/html": [
              "<div>\n",
              "<style scoped>\n",
              "    .dataframe tbody tr th:only-of-type {\n",
              "        vertical-align: middle;\n",
              "    }\n",
              "\n",
              "    .dataframe tbody tr th {\n",
              "        vertical-align: top;\n",
              "    }\n",
              "\n",
              "    .dataframe thead th {\n",
              "        text-align: right;\n",
              "    }\n",
              "</style>\n",
              "<table border=\"1\" class=\"dataframe\">\n",
              "  <thead>\n",
              "    <tr style=\"text-align: right;\">\n",
              "      <th></th>\n",
              "      <th>id</th>\n",
              "      <th>title</th>\n",
              "      <th>author</th>\n",
              "      <th>text</th>\n",
              "      <th>label</th>\n",
              "      <th>content</th>\n",
              "    </tr>\n",
              "  </thead>\n",
              "  <tbody>\n",
              "    <tr>\n",
              "      <th>0</th>\n",
              "      <td>0</td>\n",
              "      <td>House Dem Aide: We Didn’t Even See Comey’s Let...</td>\n",
              "      <td>Darrell Lucus</td>\n",
              "      <td>House Dem Aide: We Didn’t Even See Comey’s Let...</td>\n",
              "      <td>1</td>\n",
              "      <td>Darrell Lucus House Dem Aide: We Didn’t Even S...</td>\n",
              "    </tr>\n",
              "    <tr>\n",
              "      <th>1</th>\n",
              "      <td>1</td>\n",
              "      <td>FLYNN: Hillary Clinton, Big Woman on Campus - ...</td>\n",
              "      <td>Daniel J. Flynn</td>\n",
              "      <td>Ever get the feeling your life circles the rou...</td>\n",
              "      <td>0</td>\n",
              "      <td>Daniel J. Flynn FLYNN: Hillary Clinton, Big Wo...</td>\n",
              "    </tr>\n",
              "    <tr>\n",
              "      <th>2</th>\n",
              "      <td>2</td>\n",
              "      <td>Why the Truth Might Get You Fired</td>\n",
              "      <td>Consortiumnews.com</td>\n",
              "      <td>Why the Truth Might Get You Fired October 29, ...</td>\n",
              "      <td>1</td>\n",
              "      <td>Consortiumnews.com Why the Truth Might Get You...</td>\n",
              "    </tr>\n",
              "    <tr>\n",
              "      <th>3</th>\n",
              "      <td>3</td>\n",
              "      <td>15 Civilians Killed In Single US Airstrike Hav...</td>\n",
              "      <td>Jessica Purkiss</td>\n",
              "      <td>Videos 15 Civilians Killed In Single US Airstr...</td>\n",
              "      <td>1</td>\n",
              "      <td>Jessica Purkiss 15 Civilians Killed In Single ...</td>\n",
              "    </tr>\n",
              "    <tr>\n",
              "      <th>4</th>\n",
              "      <td>4</td>\n",
              "      <td>Iranian woman jailed for fictional unpublished...</td>\n",
              "      <td>Howard Portnoy</td>\n",
              "      <td>Print \\nAn Iranian woman has been sentenced to...</td>\n",
              "      <td>1</td>\n",
              "      <td>Howard Portnoy Iranian woman jailed for fictio...</td>\n",
              "    </tr>\n",
              "  </tbody>\n",
              "</table>\n",
              "</div>"
            ],
            "text/plain": [
              "   id                                              title              author  \\\n",
              "0   0  House Dem Aide: We Didn’t Even See Comey’s Let...       Darrell Lucus   \n",
              "1   1  FLYNN: Hillary Clinton, Big Woman on Campus - ...     Daniel J. Flynn   \n",
              "2   2                  Why the Truth Might Get You Fired  Consortiumnews.com   \n",
              "3   3  15 Civilians Killed In Single US Airstrike Hav...     Jessica Purkiss   \n",
              "4   4  Iranian woman jailed for fictional unpublished...      Howard Portnoy   \n",
              "\n",
              "                                                text  label  \\\n",
              "0  House Dem Aide: We Didn’t Even See Comey’s Let...      1   \n",
              "1  Ever get the feeling your life circles the rou...      0   \n",
              "2  Why the Truth Might Get You Fired October 29, ...      1   \n",
              "3  Videos 15 Civilians Killed In Single US Airstr...      1   \n",
              "4  Print \\nAn Iranian woman has been sentenced to...      1   \n",
              "\n",
              "                                             content  \n",
              "0  Darrell Lucus House Dem Aide: We Didn’t Even S...  \n",
              "1  Daniel J. Flynn FLYNN: Hillary Clinton, Big Wo...  \n",
              "2  Consortiumnews.com Why the Truth Might Get You...  \n",
              "3  Jessica Purkiss 15 Civilians Killed In Single ...  \n",
              "4  Howard Portnoy Iranian woman jailed for fictio...  "
            ]
          },
          "execution_count": 34,
          "metadata": {},
          "output_type": "execute_result"
        }
      ],
      "source": [
        "news_dataset.head(5)"
      ]
    },
    {
      "cell_type": "code",
      "execution_count": 33,
      "metadata": {
        "id": "5ZIidnta5k5h"
      },
      "outputs": [],
      "source": [
        "#separating the data and label\n",
        "X = news_dataset['content'].values\n",
        "Y = news_dataset['label'].values"
      ]
    },
    {
      "cell_type": "code",
      "execution_count": 25,
      "metadata": {
        "colab": {
          "base_uri": "https://localhost:8080/"
        },
        "id": "3nA_SBZX6BeH",
        "outputId": "3990e651-a18a-4191-c361-6854aa327caa"
      },
      "outputs": [
        {
          "name": "stdout",
          "output_type": "stream",
          "text": [
            "['darrel lucu hous dem aid even see comey letter jason chaffetz tweet'\n",
            " 'daniel j flynn flynn hillari clinton big woman campu breitbart'\n",
            " 'consortiumnew com truth might get fire' ...\n",
            " 'michael j de la merc rachel abram maci said receiv takeov approach hudson bay new york time'\n",
            " 'alex ansari nato russia hold parallel exercis balkan'\n",
            " 'david swanson keep f aliv']\n"
          ]
        }
      ],
      "source": [
        "print(X)"
      ]
    },
    {
      "cell_type": "code",
      "execution_count": 26,
      "metadata": {},
      "outputs": [],
      "source": [
        "\n",
        "# data_ = np.asarray(X)\n",
        "# data_\n",
        "# data_.tofile('data.csv',format='%.18e')"
      ]
    },
    {
      "cell_type": "code",
      "execution_count": 27,
      "metadata": {
        "colab": {
          "base_uri": "https://localhost:8080/"
        },
        "id": "NgkFGXkg6HS4",
        "outputId": "c01c5aea-ece5-462b-f14f-a448409d0aa7"
      },
      "outputs": [
        {
          "name": "stdout",
          "output_type": "stream",
          "text": [
            "[1 0 1 ... 0 1 1]\n"
          ]
        }
      ],
      "source": [
        "print(Y)"
      ]
    },
    {
      "cell_type": "code",
      "execution_count": 28,
      "metadata": {
        "colab": {
          "base_uri": "https://localhost:8080/"
        },
        "id": "Iu2ZEBkL6QTm",
        "outputId": "cbb35faa-bd75-4fee-a2ba-f85f874fe068"
      },
      "outputs": [
        {
          "data": {
            "text/plain": [
              "(20800,)"
            ]
          },
          "execution_count": 28,
          "metadata": {},
          "output_type": "execute_result"
        }
      ],
      "source": [
        "Y.shape"
      ]
    },
    {
      "cell_type": "code",
      "execution_count": 30,
      "metadata": {},
      "outputs": [
        {
          "data": {
            "text/plain": [
              "(20800,)"
            ]
          },
          "execution_count": 30,
          "metadata": {},
          "output_type": "execute_result"
        }
      ],
      "source": [
        "X.shape"
      ]
    },
    {
      "cell_type": "code",
      "execution_count": 37,
      "metadata": {},
      "outputs": [
        {
          "data": {
            "text/plain": [
              "array(['darrel lucu hous dem aid even see comey letter jason chaffetz tweet',\n",
              "       'daniel j flynn flynn hillari clinton big woman campu breitbart',\n",
              "       'consortiumnew com truth might get fire', ...,\n",
              "       'michael j de la merc rachel abram maci said receiv takeov approach hudson bay new york time',\n",
              "       'alex ansari nato russia hold parallel exercis balkan',\n",
              "       'david swanson keep f aliv'], dtype=object)"
            ]
          },
          "execution_count": 37,
          "metadata": {},
          "output_type": "execute_result"
        }
      ],
      "source": [
        "X"
      ]
    },
    {
      "cell_type": "code",
      "execution_count": 31,
      "metadata": {},
      "outputs": [
        {
          "data": {
            "text/plain": [
              "numpy.ndarray"
            ]
          },
          "execution_count": 31,
          "metadata": {},
          "output_type": "execute_result"
        }
      ],
      "source": [
        "type(X)"
      ]
    },
    {
      "cell_type": "code",
      "execution_count": 66,
      "metadata": {},
      "outputs": [],
      "source": [
        "from numpy import save\n",
        "# define data\n",
        "data = X\n",
        "# save to npy file\n",
        "save('model/data.npy', data)"
      ]
    },
    {
      "cell_type": "code",
      "execution_count": 67,
      "metadata": {},
      "outputs": [],
      "source": [
        "# load numpy array from npy file\n",
        "# from numpy import load\n",
        "# # load array\n",
        "# X1 = load('model/data.npy',allow_pickle=True)\n",
        "# # print the array\n"
      ]
    },
    {
      "cell_type": "code",
      "execution_count": 64,
      "metadata": {},
      "outputs": [
        {
          "data": {
            "text/plain": [
              "array(['darrel lucu hous dem aid even see comey letter jason chaffetz tweet',\n",
              "       'daniel j flynn flynn hillari clinton big woman campu breitbart',\n",
              "       'consortiumnew com truth might get fire', ...,\n",
              "       'michael j de la merc rachel abram maci said receiv takeov approach hudson bay new york time',\n",
              "       'alex ansari nato russia hold parallel exercis balkan',\n",
              "       'david swanson keep f aliv'], dtype=object)"
            ]
          },
          "execution_count": 64,
          "metadata": {},
          "output_type": "execute_result"
        }
      ],
      "source": [
        "# X1"
      ]
    },
    {
      "cell_type": "code",
      "execution_count": 34,
      "metadata": {},
      "outputs": [],
      "source": [
        "\n",
        "# pd.DataFrame(X).to_csv(\"model/x.csv\")"
      ]
    },
    {
      "cell_type": "code",
      "execution_count": 44,
      "metadata": {},
      "outputs": [],
      "source": [
        "# from numpy import genfromtxt\n",
        "# # my_data = genfromtxt('model/x.csv', delimiter=',')\n",
        "\n",
        "# my_data = pd.read_csv('model/x.csv')"
      ]
    },
    {
      "cell_type": "code",
      "execution_count": 52,
      "metadata": {},
      "outputs": [
        {
          "data": {
            "text/html": [
              "<div>\n",
              "<style scoped>\n",
              "    .dataframe tbody tr th:only-of-type {\n",
              "        vertical-align: middle;\n",
              "    }\n",
              "\n",
              "    .dataframe tbody tr th {\n",
              "        vertical-align: top;\n",
              "    }\n",
              "\n",
              "    .dataframe thead th {\n",
              "        text-align: right;\n",
              "    }\n",
              "</style>\n",
              "<table border=\"1\" class=\"dataframe\">\n",
              "  <thead>\n",
              "    <tr style=\"text-align: right;\">\n",
              "      <th></th>\n",
              "      <th>Unnamed: 0</th>\n",
              "      <th>0</th>\n",
              "    </tr>\n",
              "  </thead>\n",
              "  <tbody>\n",
              "    <tr>\n",
              "      <th>0</th>\n",
              "      <td>0</td>\n",
              "      <td>darrel lucu hous dem aid even see comey letter...</td>\n",
              "    </tr>\n",
              "    <tr>\n",
              "      <th>1</th>\n",
              "      <td>1</td>\n",
              "      <td>daniel j flynn flynn hillari clinton big woman...</td>\n",
              "    </tr>\n",
              "    <tr>\n",
              "      <th>2</th>\n",
              "      <td>2</td>\n",
              "      <td>consortiumnew com truth might get fire</td>\n",
              "    </tr>\n",
              "    <tr>\n",
              "      <th>3</th>\n",
              "      <td>3</td>\n",
              "      <td>jessica purkiss civilian kill singl us airstri...</td>\n",
              "    </tr>\n",
              "    <tr>\n",
              "      <th>4</th>\n",
              "      <td>4</td>\n",
              "      <td>howard portnoy iranian woman jail fiction unpu...</td>\n",
              "    </tr>\n",
              "  </tbody>\n",
              "</table>\n",
              "</div>"
            ],
            "text/plain": [
              "   Unnamed: 0                                                  0\n",
              "0           0  darrel lucu hous dem aid even see comey letter...\n",
              "1           1  daniel j flynn flynn hillari clinton big woman...\n",
              "2           2             consortiumnew com truth might get fire\n",
              "3           3  jessica purkiss civilian kill singl us airstri...\n",
              "4           4  howard portnoy iranian woman jail fiction unpu..."
            ]
          },
          "execution_count": 52,
          "metadata": {},
          "output_type": "execute_result"
        }
      ],
      "source": [
        "# my_data.head(5)"
      ]
    },
    {
      "cell_type": "code",
      "execution_count": 53,
      "metadata": {},
      "outputs": [],
      "source": [
        "# my_data.head(5)\n",
        "# my_data1 = my_data['0']"
      ]
    },
    {
      "cell_type": "code",
      "execution_count": 54,
      "metadata": {},
      "outputs": [
        {
          "data": {
            "text/plain": [
              "0        darrel lucu hous dem aid even see comey letter...\n",
              "1        daniel j flynn flynn hillari clinton big woman...\n",
              "2                   consortiumnew com truth might get fire\n",
              "3        jessica purkiss civilian kill singl us airstri...\n",
              "4        howard portnoy iranian woman jail fiction unpu...\n",
              "5        daniel nussbaum jacki mason hollywood would lo...\n",
              "6        life life luxuri elton john favorit shark pict...\n",
              "7        alissa j rubin beno hamon win french socialist...\n",
              "8        excerpt draft script donald trump q ampa black...\n",
              "9        megan twohey scott shane back channel plan ukr...\n",
              "10       aaron klein obama organ action partner soro li...\n",
              "11       chri tomlinson bbc comedi sketch real housew i...\n",
              "12       amando flavio russian research discov secret n...\n",
              "13              jason ditz us offici see link trump russia\n",
              "14       anotheranni ye paid govern troll social media ...\n",
              "15       jack william major leagu soccer argentin find ...\n",
              "16       michael corkeri staci cowley well fargo chief ...\n",
              "17       starkman anonym donor pay million releas every...\n",
              "18                                   doc fbi close hillari\n",
              "19       jeff poor chuck todd buzzfe donald trump polit...\n",
              "20       news hope gop nude paul ryan emerg ayahuasca t...\n",
              "21       jerom hudson monica lewinski clinton sex scand...\n",
              "22       pam key rob reiner trump mental unstabl breitbart\n",
              "23       massachusett cop wife bust pin fake home invas...\n",
              "24       donald g mcneil jr pam belluck abort pill orde...\n",
              "25       ira helfand nuke un histor treati ban nuclear ...\n",
              "26       aaron klein ali wake exclus islam state suppor...\n",
              "27       amanda shea humili hillari tri hide camera cau...\n",
              "28       jim dwyer andrea tantaro fox news claim retali...\n",
              "29       mark landler hillari clinton becam hawk new yo...\n",
              "                               ...                        \n",
              "20770    iron sheik huma abedin swore oath gave devic s...\n",
              "20771                                              letsber\n",
              "20772                                             beersess\n",
              "20773    vicki batt australia hunt anti vax nurs prosec...\n",
              "20774    liam deacon govern report islamist build paral...\n",
              "20775    arnaldo rodger wwii airman help veteran heal h...\n",
              "20776    jameson parker trump campaign say hillari supp...\n",
              "20777    admin editor austria largest paper charg hate ...\n",
              "20778    neil irwin job report democrat boast new york ...\n",
              "20779      thoma william ph christian persecut group world\n",
              "20780    christin hauser florida woman charg death infa...\n",
              "20781    heather callaghan time run stop kratom ban nee...\n",
              "20782    doc fix nbc affili accident post elect result ...\n",
              "20783    charl mcdermid samsung kim jong un rex tillers...\n",
              "20784    debbi menon comment world heav sigh relief tru...\n",
              "20785    ann coulter ann coulter provid univers health ...\n",
              "20786    govern forc advanc damascu aleppo highway east...\n",
              "20787     ian mason salli yate say trump wiretap breitbart\n",
              "20788    joe clark main gov lepag threaten investig col...\n",
              "20789    warner todd huston sen mcconnel suprem court v...\n",
              "20790    adam shaw nikki haley blast u n human right of...\n",
              "20791    daniel greenfield lawyer kept hillari campaign...\n",
              "20792    john hayward jakarta bomb kill three polic off...\n",
              "20793    robert rich idiot destroy trump hollywood star...\n",
              "20794    lee stranahan trump putin smart retali obama s...\n",
              "20795    jerom hudson rapper trump poster child white s...\n",
              "20796    benjamin hoffman n f l playoff schedul matchup...\n",
              "20797    michael j de la merc rachel abram maci said re...\n",
              "20798    alex ansari nato russia hold parallel exercis ...\n",
              "20799                            david swanson keep f aliv\n",
              "Name: 0, Length: 20800, dtype: object"
            ]
          },
          "execution_count": 54,
          "metadata": {},
          "output_type": "execute_result"
        }
      ],
      "source": [
        "# my_data"
      ]
    },
    {
      "cell_type": "code",
      "execution_count": 29,
      "metadata": {},
      "outputs": [
        {
          "ename": "NameError",
          "evalue": "name 'fdgdfgdfgd' is not defined",
          "output_type": "error",
          "traceback": [
            "\u001b[1;31m---------------------------------------------------------------------------\u001b[0m",
            "\u001b[1;31mNameError\u001b[0m                                 Traceback (most recent call last)",
            "\u001b[1;32m<ipython-input-29-1dace3a9e71e>\u001b[0m in \u001b[0;36m<module>\u001b[1;34m\u001b[0m\n\u001b[1;32m----> 1\u001b[1;33m \u001b[0mfdgdfgdfgd\u001b[0m\u001b[1;33m\u001b[0m\u001b[1;33m\u001b[0m\u001b[0m\n\u001b[0m",
            "\u001b[1;31mNameError\u001b[0m: name 'fdgdfgdfgd' is not defined"
          ]
        }
      ],
      "source": []
    },
    {
      "cell_type": "code",
      "execution_count": null,
      "metadata": {},
      "outputs": [],
      "source": [
        "X"
      ]
    },
    {
      "cell_type": "code",
      "execution_count": 35,
      "metadata": {
        "id": "BMfepsQZ6TES"
      },
      "outputs": [],
      "source": [
        "# converting the textual data to numerical data\n",
        "vectorizer = TfidfVectorizer()\n",
        "vectorizer.fit(X)\n",
        "\n",
        "X = vectorizer.transform(X)\n"
      ]
    },
    {
      "cell_type": "code",
      "execution_count": null,
      "metadata": {},
      "outputs": [],
      "source": [
        "\n"
      ]
    },
    {
      "cell_type": "code",
      "execution_count": 37,
      "metadata": {},
      "outputs": [
        {
          "name": "stdout",
          "output_type": "stream",
          "text": [
            "  (0, 23355)\t0.18006497451107856\n",
            "  (0, 22649)\t0.26575278886038384\n",
            "  (0, 22289)\t0.3484071341454308\n",
            "  (0, 19171)\t0.22537992364975484\n",
            "  (0, 12902)\t0.3024224900242886\n",
            "  (0, 12528)\t0.24883399099107747\n",
            "  (0, 11409)\t0.20615188166061463\n",
            "  (0, 11307)\t0.1532265401605094\n",
            "  (0, 10387)\t0.1844880289323935\n",
            "  (0, 7574)\t0.23047267305353566\n",
            "  (0, 6145)\t0.24677171892553343\n",
            "  (0, 5800)\t0.2502787762405247\n",
            "  (0, 5508)\t0.2993429551929777\n",
            "  (0, 4507)\t0.20531415441295317\n",
            "  (0, 3862)\t0.30579573877221844\n",
            "  (0, 904)\t0.26354004814013343\n",
            "  (1, 23748)\t0.2966210296019264\n",
            "  (1, 15149)\t0.15862263711495958\n",
            "  (1, 10134)\t0.18787145765749733\n",
            "  (1, 8420)\t0.7045992054867243\n",
            "  (1, 5469)\t0.2624012615566619\n",
            "  (1, 4298)\t0.19024289659874757\n",
            "  (1, 3509)\t0.37751839443307017\n",
            "  (1, 3075)\t0.15310531118537438\n",
            "  (1, 2544)\t0.2899843833664323\n",
            "  :\t:\n",
            "  (20797, 11262)\t0.12516633187998083\n",
            "  (20797, 10427)\t0.20792477683235197\n",
            "  (20797, 5559)\t0.20389975589596085\n",
            "  (20797, 3394)\t0.14456424605079038\n",
            "  (20797, 2273)\t0.31989436828531154\n",
            "  (20797, 1472)\t0.29969673985755974\n",
            "  (20797, 1233)\t0.0987242947097849\n",
            "  (20797, 544)\t0.28338371263237516\n",
            "  (20798, 21775)\t0.11011861411023321\n",
            "  (20798, 18626)\t0.21201851100491342\n",
            "  (20798, 15626)\t0.43299674985280595\n",
            "  (20798, 14500)\t0.3026696913367681\n",
            "  (20798, 10764)\t0.12377674027536936\n",
            "  (20798, 10228)\t0.33603181710149316\n",
            "  (20798, 7676)\t0.43299674985280595\n",
            "  (20798, 2068)\t0.43299674985280595\n",
            "  (20798, 1324)\t0.2955941555358824\n",
            "  (20798, 1009)\t0.2706299600743188\n",
            "  (20799, 23493)\t0.2683870404159613\n",
            "  (20799, 21564)\t0.10106058584391787\n",
            "  (20799, 21101)\t0.4480459367054237\n",
            "  (20799, 11815)\t0.45575108674851145\n",
            "  (20799, 5537)\t0.2993058137514979\n",
            "  (20799, 1043)\t0.4480459367054237\n",
            "  (20799, 270)\t0.4679442365402834\n"
          ]
        }
      ],
      "source": [
        "print(X)"
      ]
    },
    {
      "cell_type": "code",
      "execution_count": null,
      "metadata": {
        "colab": {
          "base_uri": "https://localhost:8080/"
        },
        "id": "MJj5esbs7Nzy",
        "outputId": "381f4859-7593-474e-a827-f1f4de5bd894"
      },
      "outputs": [],
      "source": [
        "print(X)"
      ]
    },
    {
      "cell_type": "markdown",
      "metadata": {
        "id": "mKBRGiSQ7YCZ"
      },
      "source": [
        "Splitting the dataset to training & test data"
      ]
    },
    {
      "cell_type": "code",
      "execution_count": 38,
      "metadata": {
        "id": "VjMYwmBo7Pbx"
      },
      "outputs": [],
      "source": [
        "X_train, X_test, Y_train, Y_test = train_test_split(X, Y, test_size = 0.2, stratify=Y, random_state=2)"
      ]
    },
    {
      "cell_type": "markdown",
      "metadata": {
        "id": "rxDsQvgO8Oln"
      },
      "source": [
        "Training the Model: Logistic Regression"
      ]
    },
    {
      "cell_type": "code",
      "execution_count": 39,
      "metadata": {
        "id": "HrSItcqc7qAy"
      },
      "outputs": [],
      "source": [
        "model = LogisticRegression()"
      ]
    },
    {
      "cell_type": "code",
      "execution_count": 40,
      "metadata": {},
      "outputs": [
        {
          "name": "stdout",
          "output_type": "stream",
          "text": [
            "  (0, 991)\t0.3108936537038392\n",
            "  (0, 4268)\t0.35257385602238933\n",
            "  (0, 4886)\t0.3218149918353991\n",
            "  (0, 14544)\t0.28683044607659075\n",
            "  (0, 14657)\t0.08939851479196703\n",
            "  (0, 15149)\t0.13521763024214778\n",
            "  (0, 16959)\t0.281126113562025\n",
            "  (0, 17807)\t0.43134727637953557\n",
            "  (0, 18583)\t0.2777120045701306\n",
            "  (0, 19791)\t0.32505384074761434\n",
            "  (0, 21564)\t0.07370617002885245\n",
            "  (0, 21736)\t0.09168254405563406\n",
            "  (0, 23915)\t0.3108936537038392\n",
            "  (0, 23989)\t0.09249239245759266\n",
            "  (1, 12)\t0.1949928443128574\n",
            "  (1, 1203)\t0.14999077977392733\n",
            "  (1, 1233)\t0.08205629736174584\n",
            "  (1, 1803)\t0.30747202041406685\n",
            "  (1, 1850)\t0.2591914353791728\n",
            "  (1, 3485)\t0.30747202041406685\n",
            "  (1, 4218)\t0.30747202041406685\n",
            "  (1, 6506)\t0.18952348674492747\n",
            "  (1, 8123)\t0.2591914353791728\n",
            "  (1, 10397)\t0.1404878194768246\n",
            "  (1, 14085)\t0.30747202041406685\n",
            "  :\t:\n",
            "  (16637, 22152)\t0.380661170099508\n",
            "  (16637, 23989)\t0.08162393566901983\n",
            "  (16638, 958)\t0.23679976988599757\n",
            "  (16638, 2322)\t0.24133054039442228\n",
            "  (16638, 5786)\t0.5616120123127117\n",
            "  (16638, 9170)\t0.24214156239679022\n",
            "  (16638, 9287)\t0.3258300994868122\n",
            "  (16638, 11262)\t0.13078139206626357\n",
            "  (16638, 11383)\t0.20459399592831368\n",
            "  (16638, 16820)\t0.3342450814858652\n",
            "  (16638, 17483)\t0.22939432231149873\n",
            "  (16638, 22805)\t0.31053957656612136\n",
            "  (16638, 23280)\t0.2928152369815851\n",
            "  (16639, 787)\t0.4428834101018388\n",
            "  (16639, 1856)\t0.25273429889994203\n",
            "  (16639, 2509)\t0.3887517913418527\n",
            "  (16639, 4865)\t0.32308044699958477\n",
            "  (16639, 7062)\t0.3134384620812423\n",
            "  (16639, 9316)\t0.2530002061094858\n",
            "  (16639, 15057)\t0.11961916883647815\n",
            "  (16639, 15783)\t0.2415815105740197\n",
            "  (16639, 16689)\t0.21526039064861602\n",
            "  (16639, 18453)\t0.2988995690151622\n",
            "  (16639, 19389)\t0.32885030979072566\n",
            "  (16639, 21564)\t0.07567739896704913\n"
          ]
        }
      ],
      "source": [
        "print(X_train)"
      ]
    },
    {
      "cell_type": "code",
      "execution_count": 41,
      "metadata": {},
      "outputs": [
        {
          "name": "stdout",
          "output_type": "stream",
          "text": [
            "[0 0 0 ... 0 0 1]\n"
          ]
        }
      ],
      "source": [
        "print(Y_train)"
      ]
    },
    {
      "cell_type": "code",
      "execution_count": 42,
      "metadata": {},
      "outputs": [
        {
          "name": "stdout",
          "output_type": "stream",
          "text": [
            "(16640, 25173)     (16640,)\n"
          ]
        }
      ],
      "source": [
        "print(X_train.shape,\"   \",Y_train.shape)"
      ]
    },
    {
      "cell_type": "code",
      "execution_count": 43,
      "metadata": {
        "colab": {
          "base_uri": "https://localhost:8080/"
        },
        "id": "fdVJ839l8Vgx",
        "outputId": "129fab6a-f9d5-4ef8-eecf-93206f1e1e41"
      },
      "outputs": [
        {
          "name": "stderr",
          "output_type": "stream",
          "text": [
            "c:\\ProgramData\\Anaconda3\\lib\\site-packages\\sklearn\\linear_model\\logistic.py:432: FutureWarning: Default solver will be changed to 'lbfgs' in 0.22. Specify a solver to silence this warning.\n",
            "  FutureWarning)\n"
          ]
        },
        {
          "data": {
            "text/plain": [
              "LogisticRegression(C=1.0, class_weight=None, dual=False, fit_intercept=True,\n",
              "                   intercept_scaling=1, l1_ratio=None, max_iter=100,\n",
              "                   multi_class='warn', n_jobs=None, penalty='l2',\n",
              "                   random_state=None, solver='warn', tol=0.0001, verbose=0,\n",
              "                   warm_start=False)"
            ]
          },
          "execution_count": 43,
          "metadata": {},
          "output_type": "execute_result"
        }
      ],
      "source": [
        "model.fit(X_train, Y_train)"
      ]
    },
    {
      "cell_type": "code",
      "execution_count": null,
      "metadata": {},
      "outputs": [],
      "source": [
        "joblib.dump(model,'model/fake_news_model.sav')"
      ]
    },
    {
      "cell_type": "markdown",
      "metadata": {
        "id": "sbPKIFT89W1C"
      },
      "source": [
        "Evaluation"
      ]
    },
    {
      "cell_type": "markdown",
      "metadata": {
        "id": "YG6gqVty9ZDB"
      },
      "source": [
        "accuracy score"
      ]
    },
    {
      "cell_type": "code",
      "execution_count": 44,
      "metadata": {
        "id": "VgwtWZY59PBw"
      },
      "outputs": [],
      "source": [
        "# accuracy score on the training data\n",
        "X_train_prediction = model.predict(X_train)\n",
        "training_data_accuracy = accuracy_score(X_train_prediction, Y_train)"
      ]
    },
    {
      "cell_type": "code",
      "execution_count": 45,
      "metadata": {
        "colab": {
          "base_uri": "https://localhost:8080/"
        },
        "id": "4L-r5mld-BFn",
        "outputId": "c662ccad-b5be-4f0c-e087-f8785e1a9141"
      },
      "outputs": [
        {
          "name": "stdout",
          "output_type": "stream",
          "text": [
            "Accuracy score of the training data :  0.9871995192307692\n"
          ]
        }
      ],
      "source": [
        "print('Accuracy score of the training data : ', training_data_accuracy)"
      ]
    },
    {
      "cell_type": "code",
      "execution_count": 46,
      "metadata": {
        "id": "Kgcn13oO-H6e"
      },
      "outputs": [],
      "source": [
        "# accuracy score on the test data\n",
        "X_test_prediction = model.predict(X_test)\n",
        "test_data_accuracy = accuracy_score(X_test_prediction, Y_test)"
      ]
    },
    {
      "cell_type": "code",
      "execution_count": 47,
      "metadata": {
        "colab": {
          "base_uri": "https://localhost:8080/"
        },
        "id": "9TG0Yof1-vg2",
        "outputId": "db5ab627-52bf-487c-df79-8d94647ffbe3"
      },
      "outputs": [
        {
          "name": "stdout",
          "output_type": "stream",
          "text": [
            "Accuracy score of the test data :  0.9790865384615385\n"
          ]
        }
      ],
      "source": [
        "print('Accuracy score of the test data : ', test_data_accuracy)"
      ]
    },
    {
      "cell_type": "markdown",
      "metadata": {
        "id": "Yun4seaE-6tV"
      },
      "source": [
        "Making a Predictive System"
      ]
    },
    {
      "cell_type": "code",
      "execution_count": 50,
      "metadata": {
        "colab": {
          "base_uri": "https://localhost:8080/"
        },
        "id": "lPjssDL_-zo8",
        "outputId": "b8bcac5b-bab1-426c-ad89-d4791b411e31"
      },
      "outputs": [
        {
          "name": "stdout",
          "output_type": "stream",
          "text": [
            "[1]\n",
            "The news is Fake\n"
          ]
        }
      ],
      "source": [
        "X_new = X_test[5]\n",
        "\n",
        "prediction = model.predict(X_new)\n",
        "print(prediction)\n",
        "\n",
        "if (prediction[0]==0):\n",
        "  print('The news is Real')\n",
        "else:\n",
        "  print('The news is Fake')"
      ]
    },
    {
      "cell_type": "code",
      "execution_count": 51,
      "metadata": {
        "colab": {
          "base_uri": "https://localhost:8080/"
        },
        "id": "8KaWdvDI_eUk",
        "outputId": "49cf7c89-08b0-4ce3-8510-82efa7447d54"
      },
      "outputs": [
        {
          "name": "stdout",
          "output_type": "stream",
          "text": [
            "0\n"
          ]
        }
      ],
      "source": [
        "print(Y_test[3])"
      ]
    },
    {
      "cell_type": "code",
      "execution_count": 52,
      "metadata": {},
      "outputs": [
        {
          "name": "stdout",
          "output_type": "stream",
          "text": [
            "  (0, 3075)\t0.0999341588255635\n",
            "  (0, 3394)\t0.1290701398684749\n",
            "  (0, 3757)\t0.2353995578665707\n",
            "  (0, 3901)\t0.19916118717179757\n",
            "  (0, 4285)\t0.21101063742479315\n",
            "  (0, 5786)\t0.4798912624808988\n",
            "  (0, 8463)\t0.30075398340678067\n",
            "  (0, 10202)\t0.2560824601482711\n",
            "  (0, 11383)\t0.17482331013137414\n",
            "  (0, 15860)\t0.3079444925959449\n",
            "  (0, 15896)\t0.3172146712470392\n",
            "  (0, 16857)\t0.2675758438774059\n",
            "  (0, 18181)\t0.3172146712470392\n",
            "  (0, 20780)\t0.2217735487185802\n"
          ]
        }
      ],
      "source": [
        "print(X_test[3])"
      ]
    },
    {
      "cell_type": "code",
      "execution_count": 53,
      "metadata": {},
      "outputs": [],
      "source": [
        "news1 = ['Specter of Trump Loosens Tongues, if Not Purse Strings, in Silicon Valley - The New York Times'\n",
        "            ,'David Streitfeld'\n",
        "            ,'adasd']"
      ]
    },
    {
      "cell_type": "code",
      "execution_count": 54,
      "metadata": {
        "id": "JBbWkLGr_lb_"
      },
      "outputs": [],
      "source": [
        "def model_result(news):\n",
        "  \n",
        "        import joblib\n",
        "        from sklearn.feature_extraction.text import TfidfVectorizer\n",
        "        from numpy import load\n",
        "        # load array\n",
        "        X1 = load('model/data.npy',allow_pickle=True)\n",
        "        model_l = joblib.load('model/fake_news_model.sav')\n",
        "\n",
        "        vectorizer = TfidfVectorizer()\n",
        "        vectorizer.fit(X1)\n",
        "        X_new = vectorizer.transform(news)\n",
        "\n",
        "        prediction = model_l.predict(X_new)\n",
        "        #print(prediction)\n",
        "\n",
        "        if (prediction[0]==0):\n",
        "          # print('The news is Real')\n",
        "          return True\n",
        "        else:\n",
        "          # print('The news is Fake')\n",
        "          return False"
      ]
    }
  ],
  "metadata": {
    "colab": {
      "collapsed_sections": [],
      "name": "Project 5. Fake News Prediction.ipynb",
      "provenance": []
    },
    "kernelspec": {
      "display_name": "Python 3.7.3 ('base')",
      "language": "python",
      "name": "python3"
    },
    "language_info": {
      "codemirror_mode": {
        "name": "ipython",
        "version": 3
      },
      "file_extension": ".py",
      "mimetype": "text/x-python",
      "name": "python",
      "nbconvert_exporter": "python",
      "pygments_lexer": "ipython3",
      "version": "3.7.3"
    },
    "vscode": {
      "interpreter": {
        "hash": "ad2bdc8ecc057115af97d19610ffacc2b4e99fae6737bb82f5d7fb13d2f2c186"
      }
    }
  },
  "nbformat": 4,
  "nbformat_minor": 0
}
